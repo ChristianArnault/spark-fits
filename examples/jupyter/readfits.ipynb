{
 "cells": [
  {
   "cell_type": "code",
   "execution_count": 1,
   "metadata": {
    "collapsed": true
   },
   "outputs": [],
   "source": [
    "## Import SparkSession from Spark\n",
    "from pyspark.sql import SparkSession"
   ]
  },
  {
   "cell_type": "code",
   "execution_count": 2,
   "metadata": {
    "collapsed": false
   },
   "outputs": [],
   "source": [
    "## Create a DataFrame from the HDU data of a FITS file\n",
    "df = spark.read.format(\"com.sparkfits\").option(\"hdu\", 1).load(\"../../src/test/resources/test_file.fits\")"
   ]
  },
  {
   "cell_type": "code",
   "execution_count": 3,
   "metadata": {
    "collapsed": false
   },
   "outputs": [
    {
     "name": "stdout",
     "output_type": "stream",
     "text": [
      "+----------+---------+--------------------+-----+-----+\n",
      "|    target|       RA|                 Dec|Index|RunId|\n",
      "+----------+---------+--------------------+-----+-----+\n",
      "|NGC0000000| 3.448297| -0.3387486324784641|    0|    1|\n",
      "|NGC0000001| 4.493667| -1.4414990980543227|    1|    1|\n",
      "|NGC0000002| 3.787274|  1.3298379564211742|    2|    1|\n",
      "|NGC0000003| 3.423602|-0.29457151504987844|    3|    1|\n",
      "|NGC0000004|2.6619017|  1.3957536426732444|    4|    1|\n",
      "+----------+---------+--------------------+-----+-----+\n",
      "only showing top 5 rows\n",
      "\n"
     ]
    }
   ],
   "source": [
    "## Show the first 5 rows\n",
    "df.show(5)"
   ]
  },
  {
   "cell_type": "code",
   "execution_count": 4,
   "metadata": {
    "collapsed": false
   },
   "outputs": [
    {
     "name": "stdout",
     "output_type": "stream",
     "text": [
      "root\n",
      " |-- target: string (nullable = true)\n",
      " |-- RA: float (nullable = true)\n",
      " |-- Dec: double (nullable = true)\n",
      " |-- Index: long (nullable = true)\n",
      " |-- RunId: integer (nullable = true)\n",
      "\n"
     ]
    }
   ],
   "source": [
    "## Print the schema built from the header\n",
    "df.printSchema()"
   ]
  }
 ],
 "metadata": {
  "kernelspec": {
   "display_name": "Python 2",
   "language": "python",
   "name": "python2"
  },
  "language_info": {
   "codemirror_mode": {
    "name": "ipython",
    "version": 2
   },
   "file_extension": ".py",
   "mimetype": "text/x-python",
   "name": "python",
   "nbconvert_exporter": "python",
   "pygments_lexer": "ipython2",
   "version": "2.7.10"
  }
 },
 "nbformat": 4,
 "nbformat_minor": 1
}
